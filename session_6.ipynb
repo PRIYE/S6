{
  "cells": [
    {
      "cell_type": "code",
      "execution_count": 1,
      "metadata": {
        "id": "0m2JWFliFfKT"
      },
      "outputs": [],
      "source": [
        "from __future__ import print_function\n",
        "import torch\n",
        "import torch.nn as nn\n",
        "import torch.nn.functional as F\n",
        "import torch.optim as optim\n",
        "from torchvision import datasets, transforms"
      ]
    },
    {
      "cell_type": "code",
      "execution_count": 2,
      "metadata": {
        "colab": {
          "base_uri": "https://localhost:8080/"
        },
        "id": "BAr9TCoO_eU9",
        "outputId": "9305f7fe-74ef-4942-fbc2-b9c7f09a4407"
      },
      "outputs": [
        {
          "output_type": "stream",
          "name": "stdout",
          "text": [
            "CUDA Available? True\n"
          ]
        }
      ],
      "source": [
        "# CUDA?\n",
        "cuda = torch.cuda.is_available()\n",
        "print(\"CUDA Available?\", cuda)"
      ]
    },
    {
      "cell_type": "code",
      "execution_count": 3,
      "metadata": {
        "id": "nkdpZXOsAeWW"
      },
      "outputs": [],
      "source": [
        "# Train data transformations\n",
        "train_transforms = transforms.Compose([\n",
        "    transforms.RandomApply([transforms.CenterCrop(22), ], p=0.1),\n",
        "    transforms.Resize((28, 28)),\n",
        "    transforms.RandomRotation((-15., 15.), fill=0),\n",
        "    transforms.ToTensor(),\n",
        "    transforms.Normalize((0.1307,), (0.3081,)),\n",
        "    ])\n",
        "\n",
        "# Test data transformations\n",
        "test_transforms = transforms.Compose([\n",
        "    transforms.ToTensor(),\n",
        "    transforms.Normalize((0.1307,), (0.3081,))\n",
        "    ])"
      ]
    },
    {
      "cell_type": "code",
      "execution_count": 4,
      "metadata": {
        "colab": {
          "base_uri": "https://localhost:8080/"
        },
        "id": "L46SFApHAiy9",
        "outputId": "39807798-b95b-4c6e-e7cc-32d200d57f51"
      },
      "outputs": [
        {
          "output_type": "stream",
          "name": "stdout",
          "text": [
            "Downloading http://yann.lecun.com/exdb/mnist/train-images-idx3-ubyte.gz\n",
            "Downloading http://yann.lecun.com/exdb/mnist/train-images-idx3-ubyte.gz to ../data/MNIST/raw/train-images-idx3-ubyte.gz\n"
          ]
        },
        {
          "output_type": "stream",
          "name": "stderr",
          "text": [
            "100%|██████████| 9912422/9912422 [00:00<00:00, 142223788.66it/s]"
          ]
        },
        {
          "output_type": "stream",
          "name": "stdout",
          "text": [
            "Extracting ../data/MNIST/raw/train-images-idx3-ubyte.gz to ../data/MNIST/raw\n"
          ]
        },
        {
          "output_type": "stream",
          "name": "stderr",
          "text": [
            "\n"
          ]
        },
        {
          "output_type": "stream",
          "name": "stdout",
          "text": [
            "\n",
            "Downloading http://yann.lecun.com/exdb/mnist/train-labels-idx1-ubyte.gz\n",
            "Downloading http://yann.lecun.com/exdb/mnist/train-labels-idx1-ubyte.gz to ../data/MNIST/raw/train-labels-idx1-ubyte.gz\n"
          ]
        },
        {
          "output_type": "stream",
          "name": "stderr",
          "text": [
            "100%|██████████| 28881/28881 [00:00<00:00, 104788662.48it/s]"
          ]
        },
        {
          "output_type": "stream",
          "name": "stdout",
          "text": [
            "Extracting ../data/MNIST/raw/train-labels-idx1-ubyte.gz to ../data/MNIST/raw\n",
            "\n",
            "Downloading http://yann.lecun.com/exdb/mnist/t10k-images-idx3-ubyte.gz\n",
            "Downloading http://yann.lecun.com/exdb/mnist/t10k-images-idx3-ubyte.gz to ../data/MNIST/raw/t10k-images-idx3-ubyte.gz\n"
          ]
        },
        {
          "output_type": "stream",
          "name": "stderr",
          "text": [
            "\n",
            "100%|██████████| 1648877/1648877 [00:00<00:00, 238199745.01it/s]\n"
          ]
        },
        {
          "output_type": "stream",
          "name": "stdout",
          "text": [
            "Extracting ../data/MNIST/raw/t10k-images-idx3-ubyte.gz to ../data/MNIST/raw\n",
            "\n",
            "Downloading http://yann.lecun.com/exdb/mnist/t10k-labels-idx1-ubyte.gz\n",
            "Downloading http://yann.lecun.com/exdb/mnist/t10k-labels-idx1-ubyte.gz to ../data/MNIST/raw/t10k-labels-idx1-ubyte.gz\n"
          ]
        },
        {
          "output_type": "stream",
          "name": "stderr",
          "text": [
            "100%|██████████| 4542/4542 [00:00<00:00, 4557542.77it/s]"
          ]
        },
        {
          "output_type": "stream",
          "name": "stdout",
          "text": [
            "Extracting ../data/MNIST/raw/t10k-labels-idx1-ubyte.gz to ../data/MNIST/raw\n",
            "\n"
          ]
        },
        {
          "output_type": "stream",
          "name": "stderr",
          "text": [
            "\n"
          ]
        }
      ],
      "source": [
        "train_data = datasets.MNIST('../data', train=True, download=True, transform=train_transforms)\n",
        "test_data = datasets.MNIST('../data', train=False, download=True, transform=test_transforms)"
      ]
    },
    {
      "cell_type": "code",
      "execution_count": 6,
      "metadata": {
        "id": "h_Cx9q2QFgM7"
      },
      "outputs": [],
      "source": [
        "class Net(nn.Module):\n",
        "    def __init__(self):\n",
        "        super(Net, self).__init__()\n",
        "        self.dropout = nn.Dropout(0.1)\n",
        "        # Block 1\n",
        "        self.conv1 = nn.Conv2d(1, 128, 3, padding=1, bias=True)  #28>>28 | 1>>3 | 1>>1\n",
        "        self.norm1 = nn.BatchNorm2d(128)\n",
        "        self.conv4 = nn.Conv2d(128, 8, 1, padding=1, bias=True) #28>>30 | 3>>3 | 1>>1\n",
        "        self.conv2 = nn.Conv2d(8, 16, 3, stride=1, padding=1, bias=True) # 30>>30 | 3>>5 | 1>>1\n",
        "        self.norm2 = nn.BatchNorm2d(16)\n",
        "        #self.conv3 = nn.Conv2d(16, 16, 3, stride=1, padding=1, bias=False) #30>>30 | 5>>7 | 1>>1\n",
        "        #self.norm3 = nn.BatchNorm2d(16)\n",
        "        self.pool1 = nn.MaxPool2d(2, 2) #30>>15 | 5>>6 | 1>>2\n",
        "        # Block 2\n",
        "        self.conv5 = nn.Conv2d(16, 16, 3, stride=1, padding=1, bias=True) #15>> 15 | 6>>10 | 2>>2\n",
        "        self.norm5 = nn.BatchNorm2d(16)\n",
        "        self.conv6 = nn.Conv2d(16, 32, 3, stride=1, padding=1, bias=True) #15>>15 | 10>>14 | 2>>2\n",
        "        self.norm6 = nn.BatchNorm2d(32)\n",
        "        self.conv7 = nn.Conv2d(32, 16, 1, stride=1, padding=1, bias=True) #15>>17 | 14>>14 | 2>>2\n",
        "        self.pool2 = nn.MaxPool2d(2, 2) #17>>8 | 14>>16 | 2>>4\n",
        "        # Block 3\n",
        "        self.conv8 = nn.Conv2d(16, 16, 3, stride=1, padding=1, bias=True) #8>> 8 | 16>>24 | 4>>4\n",
        "        self.norm8 = nn.BatchNorm2d(16)\n",
        "        self.conv9 = nn.Conv2d(16, 32, 3, stride=1, padding=1, bias=True) #8>> 8 | 24>>32 | 4>>4\n",
        "        self.norm9 = nn.BatchNorm2d(32)\n",
        "        self.conv10 = nn.Conv2d(32, 1, 1, stride=1, padding=1, bias=True) #8>>10 | 32>>32 | 4>>4\n",
        "        self.fc1 = nn.Linear(100, 10, bias=True)\n",
        "        #self.gpool = nn.AvgPool2d(kernel_size=7)\n",
        "        #self.fc1 = nn.Linear(128, 10, bias=False)\n",
        "        #self.fc2 = nn.Linear(50, 10, bias=False)\n",
        "        #self.conv6 = nn.Conv2d(512, 1024, 3, bias=False)\n",
        "        #self.conv7 = nn.Conv2d(1024, 10, 3, bias=False)\n",
        "\n",
        "    def forward(self, x):\n",
        "        #x = self.pool1(F.relu(self.conv2(F.relu(self.conv1(x)))))\n",
        "        #x = self.pool2(F.relu(self.conv4(F.relu(self.conv3(x)))))\n",
        "        #x = F.relu(self.conv6(F.relu(self.conv5(x))))\n",
        "        #x = F.relu(self.conv7(x))\n",
        "        #x = x.view(-1, 10)\n",
        "        x = F.relu(self.conv1(x), 2)\n",
        "        x = self.dropout(self.norm1(x))\n",
        "        x = self.conv4(x)\n",
        "        x = F.relu(self.conv2(x),2)\n",
        "        x = self.dropout(self.norm2(x))\n",
        "        #x = F.relu(self.conv3(x),2)\n",
        "        #x = self.dropout(self.norm3(x))\n",
        "        x = self.pool1(x)\n",
        "\n",
        "        x = F.relu(self.conv5(x), 2)\n",
        "        x = self.dropout(self.norm5(x))\n",
        "        x = F.relu(self.conv6(x), 2)\n",
        "        x = self.dropout(self.norm6(x))\n",
        "        x = self.conv7(x)\n",
        "        x = self.pool2(x)\n",
        "\n",
        "        x = F.relu(self.conv8(x), 2)\n",
        "        x = self.dropout(self.norm8(x))\n",
        "        x = F.relu(self.conv9(x), 2)\n",
        "        x = self.dropout(self.norm9(x))\n",
        "        x = self.conv10(x)\n",
        "        #x = self.norm4(x)\n",
        "        #print('SIze', x.size)\n",
        "        #x = x.view(-1, 3200)\n",
        "        x = x.view(x.size(0), -1)\n",
        "        x = self.fc1(x)\n",
        "\n",
        "        #x = self.gpool(x)\n",
        "        #x = x.view(-1, 10)\n",
        "        #x = F.relu(self.fc1(x))\n",
        "        #x = self.fc2(x)\n",
        "        return F.log_softmax(x)"
      ]
    },
    {
      "cell_type": "code",
      "execution_count": 7,
      "metadata": {
        "colab": {
          "base_uri": "https://localhost:8080/"
        },
        "id": "xdydjYTZFyi3",
        "outputId": "c6ec9c4e-61d7-44e7-f258-31c03a35a9c0"
      },
      "outputs": [
        {
          "output_type": "stream",
          "name": "stdout",
          "text": [
            "Requirement already satisfied: torchsummary in /usr/local/lib/python3.10/dist-packages (1.5.1)\n",
            "----------------------------------------------------------------\n",
            "        Layer (type)               Output Shape         Param #\n",
            "================================================================\n",
            "            Conv2d-1          [-1, 128, 28, 28]           1,280\n",
            "       BatchNorm2d-2          [-1, 128, 28, 28]             256\n",
            "           Dropout-3          [-1, 128, 28, 28]               0\n",
            "            Conv2d-4            [-1, 8, 30, 30]           1,032\n",
            "            Conv2d-5           [-1, 16, 30, 30]           1,168\n",
            "       BatchNorm2d-6           [-1, 16, 30, 30]              32\n",
            "           Dropout-7           [-1, 16, 30, 30]               0\n",
            "         MaxPool2d-8           [-1, 16, 15, 15]               0\n",
            "            Conv2d-9           [-1, 16, 15, 15]           2,320\n",
            "      BatchNorm2d-10           [-1, 16, 15, 15]              32\n",
            "          Dropout-11           [-1, 16, 15, 15]               0\n",
            "           Conv2d-12           [-1, 32, 15, 15]           4,640\n",
            "      BatchNorm2d-13           [-1, 32, 15, 15]              64\n",
            "          Dropout-14           [-1, 32, 15, 15]               0\n",
            "           Conv2d-15           [-1, 16, 17, 17]             528\n",
            "        MaxPool2d-16             [-1, 16, 8, 8]               0\n",
            "           Conv2d-17             [-1, 16, 8, 8]           2,320\n",
            "      BatchNorm2d-18             [-1, 16, 8, 8]              32\n",
            "          Dropout-19             [-1, 16, 8, 8]               0\n",
            "           Conv2d-20             [-1, 32, 8, 8]           4,640\n",
            "      BatchNorm2d-21             [-1, 32, 8, 8]              64\n",
            "          Dropout-22             [-1, 32, 8, 8]               0\n",
            "           Conv2d-23            [-1, 1, 10, 10]              33\n",
            "           Linear-24                   [-1, 10]           1,010\n",
            "================================================================\n",
            "Total params: 19,451\n",
            "Trainable params: 19,451\n",
            "Non-trainable params: 0\n",
            "----------------------------------------------------------------\n",
            "Input size (MB): 0.00\n",
            "Forward/backward pass size (MB): 3.07\n",
            "Params size (MB): 0.07\n",
            "Estimated Total Size (MB): 3.15\n",
            "----------------------------------------------------------------\n"
          ]
        },
        {
          "output_type": "stream",
          "name": "stderr",
          "text": [
            "<ipython-input-6-b6c143dc8572>:71: UserWarning: Implicit dimension choice for log_softmax has been deprecated. Change the call to include dim=X as an argument.\n",
            "  return F.log_softmax(x)\n"
          ]
        }
      ],
      "source": [
        "!pip install torchsummary\n",
        "from torchsummary import summary\n",
        "use_cuda = torch.cuda.is_available()\n",
        "device = torch.device(\"cuda\" if use_cuda else \"cpu\")\n",
        "model = Net().to(device)\n",
        "summary(model, input_size=(1, 28, 28))"
      ]
    },
    {
      "cell_type": "code",
      "execution_count": 8,
      "metadata": {
        "id": "DqTWLaM5GHgH"
      },
      "outputs": [],
      "source": [
        "torch.manual_seed(1)\n",
        "batch_size = 128\n",
        "\n",
        "kwargs = {'num_workers': 1, 'pin_memory': True} if use_cuda else {}\n",
        "train_loader = torch.utils.data.DataLoader(\n",
        "    datasets.MNIST('../data', train=True, download=True,\n",
        "                    transform=transforms.Compose([\n",
        "                        transforms.ToTensor(),\n",
        "                        transforms.Normalize((0.1307,), (0.3081,))\n",
        "                    ])),\n",
        "    batch_size=batch_size, shuffle=True, **kwargs)\n",
        "test_loader = torch.utils.data.DataLoader(\n",
        "    datasets.MNIST('../data', train=False, transform=transforms.Compose([\n",
        "                        transforms.ToTensor(),\n",
        "                        transforms.Normalize((0.1307,), (0.3081,))\n",
        "                    ])),\n",
        "    batch_size=batch_size, shuffle=True, **kwargs)\n"
      ]
    },
    {
      "cell_type": "code",
      "execution_count": 12,
      "metadata": {
        "id": "8fDefDhaFlwH"
      },
      "outputs": [],
      "source": [
        "from tqdm import tqdm\n",
        "def train(model, device, train_loader, optimizer, epoch):\n",
        "    model.train()\n",
        "    pbar = tqdm(train_loader)\n",
        "    for batch_idx, (data, target) in enumerate(pbar):\n",
        "        data, target = data.to(device), target.to(device)\n",
        "        #if batch_idx ==0:\n",
        "          #print('data', data)\n",
        "          #print('target:', target)\n",
        "        optimizer.zero_grad()\n",
        "        #if batch_idx ==0:\n",
        "         #print(optimizer)\n",
        "        output = model(data)\n",
        "        #if batch_idx ==0:\n",
        "          #print(output)\n",
        "        loss = F.nll_loss(output, target)\n",
        "        #if batch_idx ==0:\n",
        "          #print('loss', loss)\n",
        "        loss.backward()\n",
        "        optimizer.step()\n",
        "        pbar.set_description(desc= f'loss={loss.item()} batch_id={batch_idx}')\n",
        "\n",
        "\n",
        "def test(model, device, test_loader):\n",
        "    model.eval()\n",
        "    test_loss = 0\n",
        "    correct = 0\n",
        "    with torch.no_grad():\n",
        "        for data, target in test_loader:\n",
        "            data, target = data.to(device), target.to(device)\n",
        "            output = model(data)\n",
        "            test_loss += F.nll_loss(output, target, reduction='sum').item()  # sum up batch loss\n",
        "            pred = output.argmax(dim=1, keepdim=True)  # get the index of the max log-probability\n",
        "            correct += pred.eq(target.view_as(pred)).sum().item()\n",
        "\n",
        "    test_loss /= len(test_loader.dataset)\n",
        "\n",
        "    print('\\nTest set: Average loss: {:.4f}, Accuracy: {}/{} ({:.1f}%)\\n'.format(\n",
        "        test_loss, correct, len(test_loader.dataset),\n",
        "        100. * correct / len(test_loader.dataset)))"
      ]
    },
    {
      "cell_type": "code",
      "execution_count": 13,
      "metadata": {
        "colab": {
          "base_uri": "https://localhost:8080/"
        },
        "id": "MMWbLWO6FuHb",
        "outputId": "c118ad70-cd87-4133-b822-e5b0d75684d1"
      },
      "outputs": [
        {
          "output_type": "stream",
          "name": "stderr",
          "text": [
            "  0%|          | 0/469 [00:00<?, ?it/s]<ipython-input-6-b6c143dc8572>:71: UserWarning: Implicit dimension choice for log_softmax has been deprecated. Change the call to include dim=X as an argument.\n",
            "  return F.log_softmax(x)\n",
            "loss=0.07610896974802017 batch_id=468: 100%|██████████| 469/469 [00:20<00:00, 23.30it/s]\n"
          ]
        },
        {
          "output_type": "stream",
          "name": "stdout",
          "text": [
            "\n",
            "Test set: Average loss: 0.0563, Accuracy: 9807/10000 (98.1%)\n",
            "\n"
          ]
        },
        {
          "output_type": "stream",
          "name": "stderr",
          "text": [
            "loss=0.07460219413042068 batch_id=468: 100%|██████████| 469/469 [00:19<00:00, 23.91it/s]\n"
          ]
        },
        {
          "output_type": "stream",
          "name": "stdout",
          "text": [
            "\n",
            "Test set: Average loss: 0.0379, Accuracy: 9876/10000 (98.8%)\n",
            "\n"
          ]
        },
        {
          "output_type": "stream",
          "name": "stderr",
          "text": [
            "loss=0.025096869096159935 batch_id=468: 100%|██████████| 469/469 [00:18<00:00, 24.70it/s]\n"
          ]
        },
        {
          "output_type": "stream",
          "name": "stdout",
          "text": [
            "\n",
            "Test set: Average loss: 0.0372, Accuracy: 9882/10000 (98.8%)\n",
            "\n"
          ]
        },
        {
          "output_type": "stream",
          "name": "stderr",
          "text": [
            "loss=0.07739824056625366 batch_id=468: 100%|██████████| 469/469 [00:18<00:00, 24.76it/s]\n"
          ]
        },
        {
          "output_type": "stream",
          "name": "stdout",
          "text": [
            "\n",
            "Test set: Average loss: 0.0346, Accuracy: 9888/10000 (98.9%)\n",
            "\n"
          ]
        },
        {
          "output_type": "stream",
          "name": "stderr",
          "text": [
            "loss=0.006044771056622267 batch_id=468: 100%|██████████| 469/469 [00:19<00:00, 23.65it/s]\n"
          ]
        },
        {
          "output_type": "stream",
          "name": "stdout",
          "text": [
            "\n",
            "Test set: Average loss: 0.0295, Accuracy: 9909/10000 (99.1%)\n",
            "\n"
          ]
        },
        {
          "output_type": "stream",
          "name": "stderr",
          "text": [
            "loss=0.046010058373212814 batch_id=468: 100%|██████████| 469/469 [00:19<00:00, 23.86it/s]\n"
          ]
        },
        {
          "output_type": "stream",
          "name": "stdout",
          "text": [
            "\n",
            "Test set: Average loss: 0.0237, Accuracy: 9922/10000 (99.2%)\n",
            "\n"
          ]
        },
        {
          "output_type": "stream",
          "name": "stderr",
          "text": [
            "loss=0.031085744500160217 batch_id=468: 100%|██████████| 469/469 [00:18<00:00, 24.80it/s]\n"
          ]
        },
        {
          "output_type": "stream",
          "name": "stdout",
          "text": [
            "\n",
            "Test set: Average loss: 0.0252, Accuracy: 9916/10000 (99.2%)\n",
            "\n"
          ]
        },
        {
          "output_type": "stream",
          "name": "stderr",
          "text": [
            "loss=0.06269445270299911 batch_id=468: 100%|██████████| 469/469 [00:18<00:00, 25.05it/s]\n"
          ]
        },
        {
          "output_type": "stream",
          "name": "stdout",
          "text": [
            "\n",
            "Test set: Average loss: 0.0259, Accuracy: 9917/10000 (99.2%)\n",
            "\n"
          ]
        },
        {
          "output_type": "stream",
          "name": "stderr",
          "text": [
            "loss=0.03299318626523018 batch_id=468: 100%|██████████| 469/469 [00:19<00:00, 24.09it/s]\n"
          ]
        },
        {
          "output_type": "stream",
          "name": "stdout",
          "text": [
            "\n",
            "Test set: Average loss: 0.0214, Accuracy: 9933/10000 (99.3%)\n",
            "\n"
          ]
        },
        {
          "output_type": "stream",
          "name": "stderr",
          "text": [
            "loss=0.008146747015416622 batch_id=468: 100%|██████████| 469/469 [00:19<00:00, 23.98it/s]\n"
          ]
        },
        {
          "output_type": "stream",
          "name": "stdout",
          "text": [
            "\n",
            "Test set: Average loss: 0.0229, Accuracy: 9927/10000 (99.3%)\n",
            "\n"
          ]
        },
        {
          "output_type": "stream",
          "name": "stderr",
          "text": [
            "loss=0.006343294400721788 batch_id=468: 100%|██████████| 469/469 [00:18<00:00, 24.93it/s]\n"
          ]
        },
        {
          "output_type": "stream",
          "name": "stdout",
          "text": [
            "\n",
            "Test set: Average loss: 0.0237, Accuracy: 9929/10000 (99.3%)\n",
            "\n"
          ]
        },
        {
          "output_type": "stream",
          "name": "stderr",
          "text": [
            "loss=0.006122445687651634 batch_id=468: 100%|██████████| 469/469 [00:18<00:00, 24.87it/s]\n"
          ]
        },
        {
          "output_type": "stream",
          "name": "stdout",
          "text": [
            "\n",
            "Test set: Average loss: 0.0194, Accuracy: 9938/10000 (99.4%)\n",
            "\n"
          ]
        },
        {
          "output_type": "stream",
          "name": "stderr",
          "text": [
            "loss=0.008154772222042084 batch_id=468: 100%|██████████| 469/469 [00:19<00:00, 23.83it/s]\n"
          ]
        },
        {
          "output_type": "stream",
          "name": "stdout",
          "text": [
            "\n",
            "Test set: Average loss: 0.0190, Accuracy: 9939/10000 (99.4%)\n",
            "\n"
          ]
        },
        {
          "output_type": "stream",
          "name": "stderr",
          "text": [
            "loss=0.01661091111600399 batch_id=468: 100%|██████████| 469/469 [00:19<00:00, 23.74it/s]\n"
          ]
        },
        {
          "output_type": "stream",
          "name": "stdout",
          "text": [
            "\n",
            "Test set: Average loss: 0.0188, Accuracy: 9940/10000 (99.4%)\n",
            "\n"
          ]
        },
        {
          "output_type": "stream",
          "name": "stderr",
          "text": [
            "loss=0.0026773277204483747 batch_id=468: 100%|██████████| 469/469 [00:18<00:00, 24.84it/s]\n"
          ]
        },
        {
          "output_type": "stream",
          "name": "stdout",
          "text": [
            "\n",
            "Test set: Average loss: 0.0194, Accuracy: 9934/10000 (99.3%)\n",
            "\n"
          ]
        },
        {
          "output_type": "stream",
          "name": "stderr",
          "text": [
            "loss=0.001024544588290155 batch_id=468: 100%|██████████| 469/469 [00:18<00:00, 24.72it/s]\n"
          ]
        },
        {
          "output_type": "stream",
          "name": "stdout",
          "text": [
            "\n",
            "Test set: Average loss: 0.0195, Accuracy: 9946/10000 (99.5%)\n",
            "\n"
          ]
        },
        {
          "output_type": "stream",
          "name": "stderr",
          "text": [
            "loss=0.03373684361577034 batch_id=468: 100%|██████████| 469/469 [00:19<00:00, 23.53it/s]\n"
          ]
        },
        {
          "output_type": "stream",
          "name": "stdout",
          "text": [
            "\n",
            "Test set: Average loss: 0.0183, Accuracy: 9941/10000 (99.4%)\n",
            "\n"
          ]
        },
        {
          "output_type": "stream",
          "name": "stderr",
          "text": [
            "loss=0.02105111815035343 batch_id=468: 100%|██████████| 469/469 [00:19<00:00, 23.85it/s]\n"
          ]
        },
        {
          "output_type": "stream",
          "name": "stdout",
          "text": [
            "\n",
            "Test set: Average loss: 0.0182, Accuracy: 9938/10000 (99.4%)\n",
            "\n"
          ]
        },
        {
          "output_type": "stream",
          "name": "stderr",
          "text": [
            "loss=0.003417445346713066 batch_id=468: 100%|██████████| 469/469 [00:19<00:00, 24.45it/s]\n"
          ]
        },
        {
          "output_type": "stream",
          "name": "stdout",
          "text": [
            "\n",
            "Test set: Average loss: 0.0179, Accuracy: 9942/10000 (99.4%)\n",
            "\n"
          ]
        }
      ],
      "source": [
        "model = Net().to(device)\n",
        "optimizer = optim.SGD(model.parameters(), lr=0.015, momentum=0.9)\n",
        "num_epochs = 19\n",
        "for epoch in range(1, num_epochs + 1):\n",
        "    train(model, device, train_loader, optimizer, epoch)\n",
        "    test(model, device, test_loader)"
      ]
    },
    {
      "cell_type": "code",
      "execution_count": null,
      "metadata": {
        "id": "So5uk4EkHW6R"
      },
      "outputs": [],
      "source": []
    }
  ],
  "metadata": {
    "accelerator": "GPU",
    "colab": {
      "gpuType": "T4",
      "provenance": []
    },
    "kernelspec": {
      "display_name": "Python 3",
      "name": "python3"
    }
  },
  "nbformat": 4,
  "nbformat_minor": 0
}